{
 "cells": [
  {
   "cell_type": "markdown",
   "metadata": {},
   "source": [
    "### Setup\n",
    "* import helpful packages\n",
    "* connect to jira\n",
    "* identify current board, current sprint, etc\n",
    "* initiate sprint report and daily report objects"
   ]
  },
  {
   "cell_type": "code",
   "execution_count": 1,
   "metadata": {},
   "outputs": [],
   "source": [
    "import scrumpy\n",
    "import jira\n",
    "import datetime"
   ]
  },
  {
   "cell_type": "code",
   "execution_count": 2,
   "metadata": {},
   "outputs": [],
   "source": [
    "# authenticate, connect to project\n",
    "user = 'smillerd@aqnstrategies.com'\n",
    "password = 'cachet-wench-jupiter'\n",
    "j = jira.JIRA('https://aqnstrategies.atlassian.net', auth=(user, password))"
   ]
  },
  {
   "cell_type": "code",
   "execution_count": 3,
   "metadata": {},
   "outputs": [
    {
     "name": "stderr",
     "output_type": "stream",
     "text": [
      "C:\\Users\\Public\\Anaconda3\\envs\\jira_reporting\\lib\\site-packages\\jira\\client.py:3056: Warning: Old private GreenHopper API is used, all parameters will be ignored.\n",
      "  warnings.warn('Old private GreenHopper API is used, all parameters will be ignored.', Warning)\n"
     ]
    }
   ],
   "source": [
    "# specify project board to consider\n",
    "boards = j.boards()\n",
    "uep_board = boards[1]\n",
    "uep_board_id = boards[1].id\n",
    "# get sprints associated with board\n",
    "sprints = j.sprints(uep_board_id)"
   ]
  },
  {
   "cell_type": "code",
   "execution_count": 4,
   "metadata": {},
   "outputs": [],
   "source": [
    "# set parameters for the sprint report\n",
    "current_sprint = sprints[4]\n",
    "start_date = datetime.date(2018, 11, 12)\n",
    "duration = 5"
   ]
  },
  {
   "cell_type": "markdown",
   "metadata": {},
   "source": [
    "### Sprint Report"
   ]
  },
  {
   "cell_type": "code",
   "execution_count": 8,
   "metadata": {},
   "outputs": [
    {
     "ename": "NameError",
     "evalue": "name 'current_sprint' is not defined",
     "output_type": "error",
     "traceback": [
      "\u001b[1;31m---------------------------------------------------------------------------\u001b[0m",
      "\u001b[1;31mNameError\u001b[0m                                 Traceback (most recent call last)",
      "\u001b[1;32m<ipython-input-8-fb0a3c90a862>\u001b[0m in \u001b[0;36m<module>\u001b[1;34m\u001b[0m\n\u001b[1;32m----> 1\u001b[1;33m \u001b[0msr\u001b[0m \u001b[1;33m=\u001b[0m \u001b[0mscrumpy\u001b[0m\u001b[1;33m.\u001b[0m\u001b[0mSprintReport\u001b[0m\u001b[1;33m(\u001b[0m\u001b[0mj\u001b[0m\u001b[1;33m,\u001b[0m \u001b[0mcurrent_sprint\u001b[0m\u001b[1;33m,\u001b[0m \u001b[0mstart_date\u001b[0m\u001b[1;33m,\u001b[0m \u001b[0mduration\u001b[0m\u001b[1;33m)\u001b[0m\u001b[1;33m\u001b[0m\u001b[1;33m\u001b[0m\u001b[0m\n\u001b[0m",
      "\u001b[1;31mNameError\u001b[0m: name 'current_sprint' is not defined"
     ]
    }
   ],
   "source": [
    "sr = scrumpy.SprintReport(j, current_sprint, start_date, duration)"
   ]
  },
  {
   "cell_type": "code",
   "execution_count": 7,
   "metadata": {},
   "outputs": [],
   "source": [
    "all_work_df = sr.all_work_df"
   ]
  },
  {
   "cell_type": "code",
   "execution_count": 8,
   "metadata": {},
   "outputs": [],
   "source": [
    "all_work_df.to_csv('all_work_sprint_5.csv')"
   ]
  },
  {
   "cell_type": "code",
   "execution_count": 4,
   "metadata": {},
   "outputs": [],
   "source": [
    "cr = scrumpy.ClientReport(uep_board, j)"
   ]
  },
  {
   "cell_type": "code",
   "execution_count": 5,
   "metadata": {},
   "outputs": [],
   "source": [
    "df = cr.issue_detail"
   ]
  },
  {
   "cell_type": "code",
   "execution_count": 6,
   "metadata": {},
   "outputs": [
    {
     "data": {
      "text/html": [
       "<div>\n",
       "<style scoped>\n",
       "    .dataframe tbody tr th:only-of-type {\n",
       "        vertical-align: middle;\n",
       "    }\n",
       "\n",
       "    .dataframe tbody tr th {\n",
       "        vertical-align: top;\n",
       "    }\n",
       "\n",
       "    .dataframe thead th {\n",
       "        text-align: right;\n",
       "    }\n",
       "</style>\n",
       "<table border=\"1\" class=\"dataframe\">\n",
       "  <thead>\n",
       "    <tr style=\"text-align: right;\">\n",
       "      <th></th>\n",
       "      <th>Issue</th>\n",
       "      <th>Client_Lead</th>\n",
       "      <th>AQN_Lead</th>\n",
       "      <th>Description</th>\n",
       "      <th>Impact</th>\n",
       "      <th>Detailed_Status</th>\n",
       "      <th>Next_Steps</th>\n",
       "      <th>Date_First_Raised</th>\n",
       "      <th>Impediment_Date</th>\n",
       "      <th>Last_Updated</th>\n",
       "      <th>Priority</th>\n",
       "      <th>key</th>\n",
       "      <th>id</th>\n",
       "    </tr>\n",
       "  </thead>\n",
       "  <tbody>\n",
       "    <tr>\n",
       "      <th>0</th>\n",
       "      <td>Recover Rate Assumption</td>\n",
       "      <td>Danny/Richard Gil/Carlos Concha</td>\n",
       "      <td>NaN</td>\n",
       "      <td>We need a recovery rate assumption for recover...</td>\n",
       "      <td>Without this assumption we will assume all dol...</td>\n",
       "      <td>A request has been made to Danny.  Since he is...</td>\n",
       "      <td>None</td>\n",
       "      <td>2018-11-14</td>\n",
       "      <td>2018-12-03</td>\n",
       "      <td>2018-11-19T15:17:47.698-0500</td>\n",
       "      <td>Medium</td>\n",
       "      <td>UEP-257</td>\n",
       "      <td>10284</td>\n",
       "    </tr>\n",
       "    <tr>\n",
       "      <th>1</th>\n",
       "      <td>201501-12 Movimientos data does not join to Or...</td>\n",
       "      <td>Leon, Lady</td>\n",
       "      <td>Seth Millerd</td>\n",
       "      <td>Movimientos file does not contain any transact...</td>\n",
       "      <td>AQN will have to use other vintages when model...</td>\n",
       "      <td>None</td>\n",
       "      <td>None</td>\n",
       "      <td>2018-11-13</td>\n",
       "      <td>2018-12-03</td>\n",
       "      <td>2018-11-19T15:16:33.316-0500</td>\n",
       "      <td>Highest</td>\n",
       "      <td>UEP-241</td>\n",
       "      <td>10268</td>\n",
       "    </tr>\n",
       "    <tr>\n",
       "      <th>2</th>\n",
       "      <td>201701-05, 09 Movimientos data does not join t...</td>\n",
       "      <td>Leon, Lady</td>\n",
       "      <td>Seth Millerd</td>\n",
       "      <td>Movimientos file does not contain any transact...</td>\n",
       "      <td>AQN will have to use other vintages when model...</td>\n",
       "      <td>None</td>\n",
       "      <td>232</td>\n",
       "      <td>2018-11-13</td>\n",
       "      <td>2018-12-03</td>\n",
       "      <td>2018-11-19T15:20:11.704-0500</td>\n",
       "      <td>Highest</td>\n",
       "      <td>UEP-232</td>\n",
       "      <td>10259</td>\n",
       "    </tr>\n",
       "    <tr>\n",
       "      <th>3</th>\n",
       "      <td>Discount Rate</td>\n",
       "      <td>Leon, Ernesto</td>\n",
       "      <td>Walker Flythe</td>\n",
       "      <td>Determine discount rate to be used in the model</td>\n",
       "      <td>We need an agreed upon discount rate to accura...</td>\n",
       "      <td>Some discussion around discount rateoccurred i...</td>\n",
       "      <td>None</td>\n",
       "      <td>2018-09-04</td>\n",
       "      <td>2018-12-07</td>\n",
       "      <td>2018-11-05T11:32:48.668-0500</td>\n",
       "      <td>Medium</td>\n",
       "      <td>UEP-153</td>\n",
       "      <td>10180</td>\n",
       "    </tr>\n",
       "    <tr>\n",
       "      <th>4</th>\n",
       "      <td>Define Governance</td>\n",
       "      <td>Leon</td>\n",
       "      <td>Walker Flythe</td>\n",
       "      <td>Present initial plan for roles and responsibil...</td>\n",
       "      <td>AQN wants to begin engaging stakeholders and l...</td>\n",
       "      <td>Some discussion around governance occurred in ...</td>\n",
       "      <td>None</td>\n",
       "      <td>2018-09-04</td>\n",
       "      <td>2018-12-07</td>\n",
       "      <td>2018-11-05T13:20:57.360-0500</td>\n",
       "      <td>Medium</td>\n",
       "      <td>UEP-151</td>\n",
       "      <td>10178</td>\n",
       "    </tr>\n",
       "  </tbody>\n",
       "</table>\n",
       "</div>"
      ],
      "text/plain": [
       "                                               Issue  \\\n",
       "0                            Recover Rate Assumption   \n",
       "1  201501-12 Movimientos data does not join to Or...   \n",
       "2  201701-05, 09 Movimientos data does not join t...   \n",
       "3                                      Discount Rate   \n",
       "4                                  Define Governance   \n",
       "\n",
       "                       Client_Lead       AQN_Lead  \\\n",
       "0  Danny/Richard Gil/Carlos Concha            NaN   \n",
       "1                       Leon, Lady   Seth Millerd   \n",
       "2                       Leon, Lady   Seth Millerd   \n",
       "3                    Leon, Ernesto  Walker Flythe   \n",
       "4                             Leon  Walker Flythe   \n",
       "\n",
       "                                         Description  \\\n",
       "0  We need a recovery rate assumption for recover...   \n",
       "1  Movimientos file does not contain any transact...   \n",
       "2  Movimientos file does not contain any transact...   \n",
       "3   Determine discount rate to be used in the model    \n",
       "4  Present initial plan for roles and responsibil...   \n",
       "\n",
       "                                              Impact  \\\n",
       "0  Without this assumption we will assume all dol...   \n",
       "1  AQN will have to use other vintages when model...   \n",
       "2  AQN will have to use other vintages when model...   \n",
       "3  We need an agreed upon discount rate to accura...   \n",
       "4  AQN wants to begin engaging stakeholders and l...   \n",
       "\n",
       "                                     Detailed_Status Next_Steps  \\\n",
       "0  A request has been made to Danny.  Since he is...       None   \n",
       "1                                               None       None   \n",
       "2                                               None        232   \n",
       "3  Some discussion around discount rateoccurred i...       None   \n",
       "4  Some discussion around governance occurred in ...       None   \n",
       "\n",
       "  Date_First_Raised Impediment_Date                  Last_Updated Priority  \\\n",
       "0        2018-11-14      2018-12-03  2018-11-19T15:17:47.698-0500   Medium   \n",
       "1        2018-11-13      2018-12-03  2018-11-19T15:16:33.316-0500  Highest   \n",
       "2        2018-11-13      2018-12-03  2018-11-19T15:20:11.704-0500  Highest   \n",
       "3        2018-09-04      2018-12-07  2018-11-05T11:32:48.668-0500   Medium   \n",
       "4        2018-09-04      2018-12-07  2018-11-05T13:20:57.360-0500   Medium   \n",
       "\n",
       "       key     id  \n",
       "0  UEP-257  10284  \n",
       "1  UEP-241  10268  \n",
       "2  UEP-232  10259  \n",
       "3  UEP-153  10180  \n",
       "4  UEP-151  10178  "
      ]
     },
     "execution_count": 6,
     "metadata": {},
     "output_type": "execute_result"
    }
   ],
   "source": [
    "df"
   ]
  },
  {
   "cell_type": "code",
   "execution_count": 15,
   "metadata": {},
   "outputs": [],
   "source": [
    "df.to_csv('client_issues_20181119.csv')"
   ]
  },
  {
   "cell_type": "code",
   "execution_count": null,
   "metadata": {},
   "outputs": [],
   "source": []
  },
  {
   "cell_type": "code",
   "execution_count": null,
   "metadata": {},
   "outputs": [],
   "source": []
  },
  {
   "cell_type": "code",
   "execution_count": 9,
   "metadata": {},
   "outputs": [],
   "source": [
    "dr = scrumpy.DailyReport(j, uep_board)"
   ]
  },
  {
   "cell_type": "code",
   "execution_count": 10,
   "metadata": {},
   "outputs": [
    {
     "data": {
      "text/html": [
       "<div>\n",
       "<style scoped>\n",
       "    .dataframe tbody tr th:only-of-type {\n",
       "        vertical-align: middle;\n",
       "    }\n",
       "\n",
       "    .dataframe tbody tr th {\n",
       "        vertical-align: top;\n",
       "    }\n",
       "\n",
       "    .dataframe thead th {\n",
       "        text-align: right;\n",
       "    }\n",
       "</style>\n",
       "<table border=\"1\" class=\"dataframe\">\n",
       "  <thead>\n",
       "    <tr style=\"text-align: right;\">\n",
       "      <th></th>\n",
       "      <th>date</th>\n",
       "      <th>Segmentation</th>\n",
       "      <th>Segmentation</th>\n",
       "      <th>data_validation</th>\n",
       "      <th>Data_Validation</th>\n",
       "      <th>Cost Allocations</th>\n",
       "      <th>niat_estimator</th>\n",
       "      <th>cost_allocations</th>\n",
       "    </tr>\n",
       "  </thead>\n",
       "  <tbody>\n",
       "    <tr>\n",
       "      <th>0</th>\n",
       "      <td>2018-11-16 13:16:52.941247</td>\n",
       "      <td>0.603774</td>\n",
       "      <td>0.603774</td>\n",
       "      <td>0.708333</td>\n",
       "      <td>0.708333</td>\n",
       "      <td>0.965517</td>\n",
       "      <td>0.4</td>\n",
       "      <td>0.965517</td>\n",
       "    </tr>\n",
       "  </tbody>\n",
       "</table>\n",
       "</div>"
      ],
      "text/plain": [
       "                        date  Segmentation   Segmentation  data_validation  \\\n",
       "0 2018-11-16 13:16:52.941247       0.603774      0.603774         0.708333   \n",
       "\n",
       "   Data_Validation  Cost Allocations  niat_estimator  cost_allocations  \n",
       "0         0.708333          0.965517             0.4          0.965517  "
      ]
     },
     "execution_count": 10,
     "metadata": {},
     "output_type": "execute_result"
    }
   ],
   "source": [
    "dr.epic_report_df"
   ]
  },
  {
   "cell_type": "code",
   "execution_count": 19,
   "metadata": {},
   "outputs": [
    {
     "data": {
      "text/html": [
       "<div>\n",
       "<style scoped>\n",
       "    .dataframe tbody tr th:only-of-type {\n",
       "        vertical-align: middle;\n",
       "    }\n",
       "\n",
       "    .dataframe tbody tr th {\n",
       "        vertical-align: top;\n",
       "    }\n",
       "\n",
       "    .dataframe thead th {\n",
       "        text-align: right;\n",
       "    }\n",
       "</style>\n",
       "<table border=\"1\" class=\"dataframe\">\n",
       "  <thead>\n",
       "    <tr style=\"text-align: right;\">\n",
       "      <th></th>\n",
       "      <th>date</th>\n",
       "      <th>Univariate_Segmentation_Analysis</th>\n",
       "      <th>Market_Line_Analysis</th>\n",
       "      <th>DualValidation</th>\n",
       "      <th>cost_allocations</th>\n",
       "      <th>niat_estimator</th>\n",
       "      <th>data_validation</th>\n",
       "      <th>Segmentation</th>\n",
       "      <th>highly_dependent</th>\n",
       "    </tr>\n",
       "  </thead>\n",
       "  <tbody>\n",
       "    <tr>\n",
       "      <th>0</th>\n",
       "      <td>2018-11-09 15:47:42.564719</td>\n",
       "      <td>0.25</td>\n",
       "      <td>0.666667</td>\n",
       "      <td>0.181818</td>\n",
       "      <td>0.740741</td>\n",
       "      <td>0.166667</td>\n",
       "      <td>0.761905</td>\n",
       "      <td>0.2</td>\n",
       "      <td>0.666667</td>\n",
       "    </tr>\n",
       "  </tbody>\n",
       "</table>\n",
       "</div>"
      ],
      "text/plain": [
       "                        date  Univariate_Segmentation_Analysis  \\\n",
       "0 2018-11-09 15:47:42.564719                              0.25   \n",
       "\n",
       "   Market_Line_Analysis  DualValidation  cost_allocations  niat_estimator  \\\n",
       "0              0.666667        0.181818          0.740741        0.166667   \n",
       "\n",
       "   data_validation  Segmentation  highly_dependent  \n",
       "0         0.761905           0.2          0.666667  "
      ]
     },
     "execution_count": 19,
     "metadata": {},
     "output_type": "execute_result"
    }
   ],
   "source": [
    "dr.effort_report_df"
   ]
  },
  {
   "cell_type": "code",
   "execution_count": 23,
   "metadata": {},
   "outputs": [
    {
     "data": {
      "text/plain": [
       "{'sprint': 'UEP Sprint 4',\n",
       " 'state': 'ACTIVE',\n",
       " 'start_date': datetime.datetime(2018, 11, 5, 15, 47, 42, 564719),\n",
       " 'end_date': datetime.datetime(2018, 11, 10, 15, 47, 42, 564719),\n",
       " 'planned': 46,\n",
       " 'velocity': 25,\n",
       " 'percent_forecast_met': 0.5434782608695652}"
      ]
     },
     "execution_count": 23,
     "metadata": {},
     "output_type": "execute_result"
    }
   ],
   "source": [
    "dr.current_sprint_report.sprint_report_dict"
   ]
  },
  {
   "cell_type": "code",
   "execution_count": 24,
   "metadata": {},
   "outputs": [
    {
     "data": {
      "text/plain": [
       "{'sprint': 'UEP Sprint 3',\n",
       " 'state': 'CLOSED',\n",
       " 'start_date': datetime.datetime(2018, 10, 29, 15, 47, 42, 564719),\n",
       " 'end_date': datetime.datetime(2018, 11, 3, 15, 47, 42, 564719),\n",
       " 'planned': 15,\n",
       " 'velocity': 9,\n",
       " 'percent_forecast_met': 0.6}"
      ]
     },
     "execution_count": 24,
     "metadata": {},
     "output_type": "execute_result"
    }
   ],
   "source": [
    "dr.last_sprint_report.sprint_report_dict"
   ]
  },
  {
   "cell_type": "code",
   "execution_count": 25,
   "metadata": {},
   "outputs": [
    {
     "data": {
      "text/plain": [
       "{'sprint': 'UEP Sprint 2',\n",
       " 'state': 'CLOSED',\n",
       " 'start_date': datetime.datetime(2018, 10, 22, 15, 47, 42, 564719),\n",
       " 'end_date': datetime.datetime(2018, 10, 27, 15, 47, 42, 564719),\n",
       " 'planned': 32,\n",
       " 'velocity': 17,\n",
       " 'percent_forecast_met': 0.53125}"
      ]
     },
     "execution_count": 25,
     "metadata": {},
     "output_type": "execute_result"
    }
   ],
   "source": [
    "dr.prior_sprint_report.sprint_report_dict"
   ]
  }
 ],
 "metadata": {
  "kernelspec": {
   "display_name": "Python 3",
   "language": "python",
   "name": "python3"
  },
  "language_info": {
   "codemirror_mode": {
    "name": "ipython",
    "version": 3
   },
   "file_extension": ".py",
   "mimetype": "text/x-python",
   "name": "python",
   "nbconvert_exporter": "python",
   "pygments_lexer": "ipython3",
   "version": "3.6.7"
  }
 },
 "nbformat": 4,
 "nbformat_minor": 2
}
