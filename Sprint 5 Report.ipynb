{
 "cells": [
  {
   "cell_type": "markdown",
   "metadata": {},
   "source": [
    "### Setup\n",
    "* import helpful packages\n",
    "* connect to jira\n",
    "* identify current board, current sprint, etc\n",
    "* initiate sprint report and daily report objects"
   ]
  },
  {
   "cell_type": "code",
   "execution_count": 1,
   "metadata": {},
   "outputs": [],
   "source": [
    "import scrumpy\n",
    "import jira\n",
    "import datetime"
   ]
  },
  {
   "cell_type": "code",
   "execution_count": 2,
   "metadata": {},
   "outputs": [],
   "source": [
    "# authenticate, connect to project\n",
    "user = 'smillerd@aqnstrategies.com'\n",
    "password = 'cachet-wench-jupiter'\n",
    "j = jira.JIRA('https://aqnstrategies.atlassian.net', auth=(user, password))"
   ]
  },
  {
   "cell_type": "code",
   "execution_count": 3,
   "metadata": {},
   "outputs": [
    {
     "name": "stderr",
     "output_type": "stream",
     "text": [
      "C:\\Users\\Public\\Anaconda3\\envs\\jira_reporting\\lib\\site-packages\\jira\\client.py:3056: Warning: Old private GreenHopper API is used, all parameters will be ignored.\n",
      "  warnings.warn('Old private GreenHopper API is used, all parameters will be ignored.', Warning)\n"
     ]
    }
   ],
   "source": [
    "# specify project board to consider\n",
    "boards = j.boards()\n",
    "uep_board = boards[1]\n",
    "uep_board_id = boards[1].id\n",
    "# get sprints associated with board\n",
    "sprints = j.sprints(uep_board_id)"
   ]
  },
  {
   "cell_type": "code",
   "execution_count": 4,
   "metadata": {},
   "outputs": [],
   "source": [
    "# set parameters for the sprint report\n",
    "current_sprint = sprints[4]\n",
    "start_date = datetime.date(2018, 11, 12)\n",
    "duration = 5"
   ]
  },
  {
   "cell_type": "markdown",
   "metadata": {},
   "source": [
    "### Sprint Report"
   ]
  },
  {
   "cell_type": "code",
   "execution_count": 6,
   "metadata": {},
   "outputs": [],
   "source": [
    "sr = scrumpy.SprintReport(j, current_sprint, start_date, duration)"
   ]
  },
  {
   "cell_type": "code",
   "execution_count": 7,
   "metadata": {},
   "outputs": [],
   "source": [
    "all_work_df = sr.all_work_df"
   ]
  },
  {
   "cell_type": "code",
   "execution_count": 8,
   "metadata": {},
   "outputs": [],
   "source": [
    "all_work_df.to_csv('all_work_sprint_5.csv')"
   ]
  },
  {
   "cell_type": "code",
   "execution_count": 11,
   "metadata": {},
   "outputs": [],
   "source": [
    "cr = scrumpy.ClientReport(uep_board, j)"
   ]
  },
  {
   "cell_type": "code",
   "execution_count": 15,
   "metadata": {},
   "outputs": [],
   "source": [
    "cr.issue_detail.to_csv('client_issues_20181116.csv')"
   ]
  },
  {
   "cell_type": "code",
   "execution_count": null,
   "metadata": {},
   "outputs": [],
   "source": []
  },
  {
   "cell_type": "code",
   "execution_count": null,
   "metadata": {},
   "outputs": [],
   "source": []
  },
  {
   "cell_type": "code",
   "execution_count": 9,
   "metadata": {},
   "outputs": [],
   "source": [
    "dr = scrumpy.DailyReport(j, uep_board)"
   ]
  },
  {
   "cell_type": "code",
   "execution_count": 10,
   "metadata": {},
   "outputs": [
    {
     "data": {
      "text/html": [
       "<div>\n",
       "<style scoped>\n",
       "    .dataframe tbody tr th:only-of-type {\n",
       "        vertical-align: middle;\n",
       "    }\n",
       "\n",
       "    .dataframe tbody tr th {\n",
       "        vertical-align: top;\n",
       "    }\n",
       "\n",
       "    .dataframe thead th {\n",
       "        text-align: right;\n",
       "    }\n",
       "</style>\n",
       "<table border=\"1\" class=\"dataframe\">\n",
       "  <thead>\n",
       "    <tr style=\"text-align: right;\">\n",
       "      <th></th>\n",
       "      <th>date</th>\n",
       "      <th>Segmentation</th>\n",
       "      <th>Segmentation</th>\n",
       "      <th>data_validation</th>\n",
       "      <th>Data_Validation</th>\n",
       "      <th>Cost Allocations</th>\n",
       "      <th>niat_estimator</th>\n",
       "      <th>cost_allocations</th>\n",
       "    </tr>\n",
       "  </thead>\n",
       "  <tbody>\n",
       "    <tr>\n",
       "      <th>0</th>\n",
       "      <td>2018-11-16 13:16:52.941247</td>\n",
       "      <td>0.603774</td>\n",
       "      <td>0.603774</td>\n",
       "      <td>0.708333</td>\n",
       "      <td>0.708333</td>\n",
       "      <td>0.965517</td>\n",
       "      <td>0.4</td>\n",
       "      <td>0.965517</td>\n",
       "    </tr>\n",
       "  </tbody>\n",
       "</table>\n",
       "</div>"
      ],
      "text/plain": [
       "                        date  Segmentation   Segmentation  data_validation  \\\n",
       "0 2018-11-16 13:16:52.941247       0.603774      0.603774         0.708333   \n",
       "\n",
       "   Data_Validation  Cost Allocations  niat_estimator  cost_allocations  \n",
       "0         0.708333          0.965517             0.4          0.965517  "
      ]
     },
     "execution_count": 10,
     "metadata": {},
     "output_type": "execute_result"
    }
   ],
   "source": [
    "dr.epic_report_df"
   ]
  },
  {
   "cell_type": "code",
   "execution_count": 19,
   "metadata": {},
   "outputs": [
    {
     "data": {
      "text/html": [
       "<div>\n",
       "<style scoped>\n",
       "    .dataframe tbody tr th:only-of-type {\n",
       "        vertical-align: middle;\n",
       "    }\n",
       "\n",
       "    .dataframe tbody tr th {\n",
       "        vertical-align: top;\n",
       "    }\n",
       "\n",
       "    .dataframe thead th {\n",
       "        text-align: right;\n",
       "    }\n",
       "</style>\n",
       "<table border=\"1\" class=\"dataframe\">\n",
       "  <thead>\n",
       "    <tr style=\"text-align: right;\">\n",
       "      <th></th>\n",
       "      <th>date</th>\n",
       "      <th>Univariate_Segmentation_Analysis</th>\n",
       "      <th>Market_Line_Analysis</th>\n",
       "      <th>DualValidation</th>\n",
       "      <th>cost_allocations</th>\n",
       "      <th>niat_estimator</th>\n",
       "      <th>data_validation</th>\n",
       "      <th>Segmentation</th>\n",
       "      <th>highly_dependent</th>\n",
       "    </tr>\n",
       "  </thead>\n",
       "  <tbody>\n",
       "    <tr>\n",
       "      <th>0</th>\n",
       "      <td>2018-11-09 15:47:42.564719</td>\n",
       "      <td>0.25</td>\n",
       "      <td>0.666667</td>\n",
       "      <td>0.181818</td>\n",
       "      <td>0.740741</td>\n",
       "      <td>0.166667</td>\n",
       "      <td>0.761905</td>\n",
       "      <td>0.2</td>\n",
       "      <td>0.666667</td>\n",
       "    </tr>\n",
       "  </tbody>\n",
       "</table>\n",
       "</div>"
      ],
      "text/plain": [
       "                        date  Univariate_Segmentation_Analysis  \\\n",
       "0 2018-11-09 15:47:42.564719                              0.25   \n",
       "\n",
       "   Market_Line_Analysis  DualValidation  cost_allocations  niat_estimator  \\\n",
       "0              0.666667        0.181818          0.740741        0.166667   \n",
       "\n",
       "   data_validation  Segmentation  highly_dependent  \n",
       "0         0.761905           0.2          0.666667  "
      ]
     },
     "execution_count": 19,
     "metadata": {},
     "output_type": "execute_result"
    }
   ],
   "source": [
    "dr.effort_report_df"
   ]
  },
  {
   "cell_type": "code",
   "execution_count": 23,
   "metadata": {},
   "outputs": [
    {
     "data": {
      "text/plain": [
       "{'sprint': 'UEP Sprint 4',\n",
       " 'state': 'ACTIVE',\n",
       " 'start_date': datetime.datetime(2018, 11, 5, 15, 47, 42, 564719),\n",
       " 'end_date': datetime.datetime(2018, 11, 10, 15, 47, 42, 564719),\n",
       " 'planned': 46,\n",
       " 'velocity': 25,\n",
       " 'percent_forecast_met': 0.5434782608695652}"
      ]
     },
     "execution_count": 23,
     "metadata": {},
     "output_type": "execute_result"
    }
   ],
   "source": [
    "dr.current_sprint_report.sprint_report_dict"
   ]
  },
  {
   "cell_type": "code",
   "execution_count": 24,
   "metadata": {},
   "outputs": [
    {
     "data": {
      "text/plain": [
       "{'sprint': 'UEP Sprint 3',\n",
       " 'state': 'CLOSED',\n",
       " 'start_date': datetime.datetime(2018, 10, 29, 15, 47, 42, 564719),\n",
       " 'end_date': datetime.datetime(2018, 11, 3, 15, 47, 42, 564719),\n",
       " 'planned': 15,\n",
       " 'velocity': 9,\n",
       " 'percent_forecast_met': 0.6}"
      ]
     },
     "execution_count": 24,
     "metadata": {},
     "output_type": "execute_result"
    }
   ],
   "source": [
    "dr.last_sprint_report.sprint_report_dict"
   ]
  },
  {
   "cell_type": "code",
   "execution_count": 25,
   "metadata": {},
   "outputs": [
    {
     "data": {
      "text/plain": [
       "{'sprint': 'UEP Sprint 2',\n",
       " 'state': 'CLOSED',\n",
       " 'start_date': datetime.datetime(2018, 10, 22, 15, 47, 42, 564719),\n",
       " 'end_date': datetime.datetime(2018, 10, 27, 15, 47, 42, 564719),\n",
       " 'planned': 32,\n",
       " 'velocity': 17,\n",
       " 'percent_forecast_met': 0.53125}"
      ]
     },
     "execution_count": 25,
     "metadata": {},
     "output_type": "execute_result"
    }
   ],
   "source": [
    "dr.prior_sprint_report.sprint_report_dict"
   ]
  }
 ],
 "metadata": {
  "kernelspec": {
   "display_name": "Python 3",
   "language": "python",
   "name": "python3"
  },
  "language_info": {
   "codemirror_mode": {
    "name": "ipython",
    "version": 3
   },
   "file_extension": ".py",
   "mimetype": "text/x-python",
   "name": "python",
   "nbconvert_exporter": "python",
   "pygments_lexer": "ipython3",
   "version": "3.6.7"
  }
 },
 "nbformat": 4,
 "nbformat_minor": 2
}
